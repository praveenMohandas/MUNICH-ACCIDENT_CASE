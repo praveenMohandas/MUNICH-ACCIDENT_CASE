{
 "cells": [
  {
   "cell_type": "code",
   "execution_count": 103,
   "id": "bb7468c5",
   "metadata": {},
   "outputs": [
    {
     "name": "stderr",
     "output_type": "stream",
     "text": [
      "/var/folders/l3/sjthz8_570377p43hbq21sb00000gn/T/ipykernel_28521/1236140870.py:7: SettingWithCopyWarning: \n",
      "A value is trying to be set on a copy of a slice from a DataFrame.\n",
      "Try using .loc[row_indexer,col_indexer] = value instead\n",
      "\n",
      "See the caveats in the documentation: https://pandas.pydata.org/pandas-docs/stable/user_guide/indexing.html#returning-a-view-versus-a-copy\n",
      "  filtered_df['MONAT']=pd.to_datetime(filtered_df['MONAT'],format='%Y%m')\n"
     ]
    }
   ],
   "source": [
    "import pandas as pd\n",
    "df = pd.read_csv('/Users/praveenmohandas/Downloads/monatszahlen2209_verkehrsunfaelle.csv')\n",
    "df = df[df['JAHR'] <= 2020]\n",
    "df.drop(['VORJAHRESWERT','VERÄND_VORMONAT_PROZENT','VERÄND_VORJAHRESMONAT_PROZENT','ZWÖLF_MONATE_MITTELWERT'],axis=1,inplace=True)\n",
    "df=df[df['MONAT']!= 'Summe']\n",
    "filtered_df = df[(df['MONATSZAHL'] == 'Alkoholunfälle') & (df['AUSPRÄGUNG'] == 'insgesamt')]\n",
    "filtered_df['MONAT']=pd.to_datetime(filtered_df['MONAT'],format='%Y%m')\n",
    "train_df = filtered_df[(filtered_df['MONAT'].dt.month != 12)].reset_index(drop=True)\n",
    "test_df = filtered_df[(filtered_df['MONAT'].dt.month == 12)].reset_index(drop=True)\n",
    "train_df['MONAT']=train_df['MONAT'].dt.month.astype(int)\n",
    "test_df['MONAT']=test_df['MONAT'].dt.month.astype(int)"
   ]
  },
  {
   "cell_type": "code",
   "execution_count": 106,
   "id": "998ed272",
   "metadata": {},
   "outputs": [
    {
     "name": "stdout",
     "output_type": "stream",
     "text": [
      "Predicted number of accidents in January 2021: 33.18567493112914\n"
     ]
    }
   ],
   "source": [
    "from sklearn.linear_model import LinearRegression\n",
    "model = LinearRegression()\n",
    "X_train = train_df[['JAHR','MONAT']]\n",
    "y_train = train_df['WERT']\n",
    "model.fit(X_train, y_train)\n",
    "X_test = test_df[['JAHR','MONAT']]\n",
    "y_pred = model.predict(X_test)\n",
    "print('Predicted number of accidents in January 2021:', y_pred[0])"
   ]
  },
  {
   "cell_type": "code",
   "execution_count": null,
   "id": "e20125be",
   "metadata": {},
   "outputs": [],
   "source": [
    "#Input year and month ;change y_pred,X_test"
   ]
  },
  {
   "cell_type": "code",
   "execution_count": 108,
   "id": "910505af",
   "metadata": {},
   "outputs": [
    {
     "ename": "SyntaxError",
     "evalue": "invalid syntax (3253727093.py, line 1)",
     "output_type": "error",
     "traceback": [
      "\u001b[0;36m  Input \u001b[0;32mIn [108]\u001b[0;36m\u001b[0m\n\u001b[0;31m    git init\u001b[0m\n\u001b[0m        ^\u001b[0m\n\u001b[0;31mSyntaxError\u001b[0m\u001b[0;31m:\u001b[0m invalid syntax\n"
     ]
    }
   ],
   "source": []
  },
  {
   "cell_type": "code",
   "execution_count": null,
   "id": "9c9d99a8",
   "metadata": {},
   "outputs": [],
   "source": []
  }
 ],
 "metadata": {
  "kernelspec": {
   "display_name": "Python 3 (ipykernel)",
   "language": "python",
   "name": "python3"
  },
  "language_info": {
   "codemirror_mode": {
    "name": "ipython",
    "version": 3
   },
   "file_extension": ".py",
   "mimetype": "text/x-python",
   "name": "python",
   "nbconvert_exporter": "python",
   "pygments_lexer": "ipython3",
   "version": "3.9.12"
  }
 },
 "nbformat": 4,
 "nbformat_minor": 5
}
